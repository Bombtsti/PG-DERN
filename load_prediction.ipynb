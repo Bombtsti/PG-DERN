{
 "cells": [
  {
   "cell_type": "code",
   "execution_count": 1,
   "outputs": [
    {
     "name": "stdout",
     "output_type": "stream",
     "text": [
      "[0.8525186, 0.8411766, 0.7962090000000001, 0.7769406, 0.7165242, 0.6965611999999999, 0.7520703999999999, 0.7450996]\n"
     ]
    },
    {
     "data": {
      "text/plain": "<Figure size 432x288 with 1 Axes>",
      "image/png": "[encoded data removed]"
     },
     "metadata": {},
     "output_type": "display_data"
    }
   ],
   "source": [
    "\n",
    "import matplotlib.pyplot as plt\n",
    "\n",
    "# 示例数据\n",
    "datasets = ['tox21-10','tox21-1','sider-10','sider-1','muv-10','muv-1','toxcast-10','toxcast-1']\n",
    "categories = ['T10', 'T1', 'S10', 'S1','M10', 'M1', 'TC10', 'TC1']\n",
    "values = []\n",
    "\n",
    "# 下载文件 https://zenodo.org/api/records/10443787/files-archive\n",
    "\n",
    "path = \"D:/WorkSpace/Python2/PG-DERN4/res/\"\n",
    "for name in datasets:\n",
    "    cache = 0\n",
    "    for i in range(1,6):\n",
    "        with open(path+'{}-{}.txt'.format(name,i), 'r') as file:\n",
    "            lines = file.readlines()\n",
    "            last_line = lines[-1].strip()\n",
    "            value = last_line.split('\\t')[-1]\n",
    "            cache = cache+float(value)\n",
    "    values.append(cache/5)\n",
    "print(values)\n",
    "\n",
    "# 创建柱状图\n",
    "plt.bar(categories, values)\n",
    "for index, y_value in enumerate(values):\n",
    "    plt.text(index, y_value+0.01, '%0.4f' %float(y_value),ha='center')\n",
    "\n",
    "# 添加标题和标签\n",
    "plt.xlabel('Dataset')\n",
    "plt.ylabel('AUC')\n",
    "plt.ylim(0.5,1)\n",
    "\n",
    "\n",
    "# 显示图形\n",
    "plt.show()"
   ],
   "metadata": {
    "collapsed": false
   }
  }
 ],
 "metadata": {
  "kernelspec": {
   "display_name": "Python 3",
   "language": "python",
   "name": "python3"
  },
  "language_info": {
   "codemirror_mode": {
    "name": "ipython",
    "version": 2
   },
   "file_extension": ".py",
   "mimetype": "text/x-python",
   "name": "python",
   "nbconvert_exporter": "python",
   "pygments_lexer": "ipython2",
   "version": "2.7.6"
  }
 },
 "nbformat": 4,
 "nbformat_minor": 0
}
